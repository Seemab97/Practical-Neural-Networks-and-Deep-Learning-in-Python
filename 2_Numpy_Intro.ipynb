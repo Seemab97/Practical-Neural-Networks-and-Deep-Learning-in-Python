{
 "cells": [
  {
   "cell_type": "markdown",
   "id": "47ea7978",
   "metadata": {},
   "source": [
    "# Introduction"
   ]
  },
  {
   "cell_type": "code",
   "execution_count": 2,
   "id": "8f61ded2",
   "metadata": {},
   "outputs": [],
   "source": [
    "import numpy as np"
   ]
  },
  {
   "cell_type": "code",
   "execution_count": 3,
   "id": "1b7e0612",
   "metadata": {},
   "outputs": [
    {
     "name": "stdout",
     "output_type": "stream",
     "text": [
      "<class 'list'>\n"
     ]
    }
   ],
   "source": [
    "arr1=[3,4,5,6,7]\n",
    "print(type(arr1))"
   ]
  },
  {
   "cell_type": "code",
   "execution_count": 6,
   "id": "51edf392",
   "metadata": {},
   "outputs": [
    {
     "name": "stdout",
     "output_type": "stream",
     "text": [
      "<class 'numpy.ndarray'>\n"
     ]
    }
   ],
   "source": [
    "#converting list to np array\n",
    "narr1=np.array(arr1)\n",
    "print(type(narr1))"
   ]
  },
  {
   "cell_type": "code",
   "execution_count": 9,
   "id": "77cda8e9",
   "metadata": {},
   "outputs": [
    {
     "name": "stdout",
     "output_type": "stream",
     "text": [
      "[[1 2 3 4]\n",
      " [5 6 7 8]]\n"
     ]
    }
   ],
   "source": [
    "#multidimensional array\n",
    "arr2=[[1,2,3,4],[5,6,7,8]]\n",
    "narr2=np.array(arr2)\n",
    "print(narr2)"
   ]
  },
  {
   "cell_type": "code",
   "execution_count": 10,
   "id": "540fdd05",
   "metadata": {},
   "outputs": [
    {
     "name": "stdout",
     "output_type": "stream",
     "text": [
      "[[ 1  2  3  4]\n",
      " [ 5  6  7  8]\n",
      " [ 9 10 11 12]]\n"
     ]
    }
   ],
   "source": [
    "arr3=[[1,2,3,4],[5,6,7,8],[9,10,11,12]]\n",
    "narr3=np.array(arr3)\n",
    "print(narr3)"
   ]
  },
  {
   "cell_type": "code",
   "execution_count": 16,
   "id": "60058f15",
   "metadata": {},
   "outputs": [
    {
     "name": "stdout",
     "output_type": "stream",
     "text": [
      "(3, 4)\n"
     ]
    }
   ],
   "source": [
    "#dimension\n",
    "print(narr3.shape)"
   ]
  },
  {
   "cell_type": "code",
   "execution_count": 21,
   "id": "d3cb51e1",
   "metadata": {},
   "outputs": [
    {
     "name": "stdout",
     "output_type": "stream",
     "text": [
      "[[0. 0.]\n",
      " [0. 0.]]\n"
     ]
    }
   ],
   "source": [
    "#2*2 array with 0\n",
    "zer=np.zeros((2, 2))\n",
    "print(zer)"
   ]
  },
  {
   "cell_type": "code",
   "execution_count": 22,
   "id": "97b68983",
   "metadata": {},
   "outputs": [
    {
     "name": "stdout",
     "output_type": "stream",
     "text": [
      "[[5 5]\n",
      " [5 5]]\n"
     ]
    }
   ],
   "source": [
    "#2*2 array of 5\n",
    "\n",
    "five=np.full((2,2),5)\n",
    "print(five)"
   ]
  },
  {
   "cell_type": "code",
   "execution_count": 23,
   "id": "ce153adb",
   "metadata": {},
   "outputs": [
    {
     "name": "stdout",
     "output_type": "stream",
     "text": [
      "[[1. 0. 0. 0.]\n",
      " [0. 1. 0. 0.]\n",
      " [0. 0. 1. 0.]\n",
      " [0. 0. 0. 1.]]\n"
     ]
    }
   ],
   "source": [
    "#diagonal matrix\n",
    "diag=np.eye(4,4)\n",
    "print(diag)"
   ]
  },
  {
   "cell_type": "markdown",
   "id": "6925ae2a",
   "metadata": {},
   "source": [
    "# Basic Numpy Operations"
   ]
  },
  {
   "cell_type": "code",
   "execution_count": 31,
   "id": "fa73afc1",
   "metadata": {},
   "outputs": [
    {
     "name": "stdout",
     "output_type": "stream",
     "text": [
      "[ 1  2 11  6  8 18 12]\n",
      "<class 'numpy.ndarray'>\n"
     ]
    }
   ],
   "source": [
    "a=[1,2,11,6,8,18,12]\n",
    "na=np.array(a)\n",
    "print(na)\n",
    "print(type(na))"
   ]
  },
  {
   "cell_type": "code",
   "execution_count": 25,
   "id": "2f7ba891",
   "metadata": {},
   "outputs": [
    {
     "name": "stdout",
     "output_type": "stream",
     "text": [
      "(7,)\n"
     ]
    }
   ],
   "source": [
    "print(na.shape)"
   ]
  },
  {
   "cell_type": "code",
   "execution_count": 33,
   "id": "d9a53d3d",
   "metadata": {},
   "outputs": [
    {
     "name": "stdout",
     "output_type": "stream",
     "text": [
      "11\n",
      "[ 2 11  6  8]\n",
      "[ 1  2 11]\n",
      "[ 6  8 18 12]\n",
      "[ 1  2 11  6  8 18 12]\n"
     ]
    }
   ],
   "source": [
    "#accessing elements\n",
    "print(na[2])\n",
    "print(na[1:5])\n",
    "print(na[:3])\n",
    "print(na[3:])\n",
    "print(na[:])\n"
   ]
  },
  {
   "cell_type": "code",
   "execution_count": 28,
   "id": "bc807eea",
   "metadata": {},
   "outputs": [
    {
     "name": "stdout",
     "output_type": "stream",
     "text": [
      "[2 6]\n"
     ]
    }
   ],
   "source": [
    "#use a step of 2\n",
    "print(na[1:5:2])"
   ]
  },
  {
   "cell_type": "code",
   "execution_count": 29,
   "id": "452acc24",
   "metadata": {},
   "outputs": [
    {
     "name": "stdout",
     "output_type": "stream",
     "text": [
      "[1, 2, 11]\n"
     ]
    }
   ],
   "source": [
    "#using -ve index\n",
    "print(a[-7:-4]) #-7 because last index won't be counted so tell an extra number, the order of being counted as the last index is reversed here"
   ]
  },
  {
   "cell_type": "code",
   "execution_count": 32,
   "id": "87651dc4",
   "metadata": {},
   "outputs": [
    {
     "name": "stdout",
     "output_type": "stream",
     "text": [
      "12\n"
     ]
    }
   ],
   "source": [
    "print(a[-1])"
   ]
  },
  {
   "cell_type": "code",
   "execution_count": 34,
   "id": "aa157d9b",
   "metadata": {},
   "outputs": [
    {
     "name": "stdout",
     "output_type": "stream",
     "text": [
      "[ 1  2 11  6  8 18 12]\n"
     ]
    }
   ],
   "source": [
    "#copy an array\n",
    "b=na[:]\n",
    "print(b)"
   ]
  },
  {
   "cell_type": "code",
   "execution_count": 54,
   "id": "13f00392",
   "metadata": {},
   "outputs": [
    {
     "name": "stdout",
     "output_type": "stream",
     "text": [
      "[1 2 3 4 5 6 7 8]\n",
      "\n",
      "\n",
      "[[1 2 3 4]\n",
      " [5 6 7 8]]\n"
     ]
    }
   ],
   "source": [
    "#concatenate two arrays \n",
    "\n",
    "#column wise\n",
    "x=np.array([1,2,3,4])\n",
    "y=np.array([5,6,7,8])\n",
    "\n",
    "z=np.concatenate([x,y])\n",
    "print(z)\n",
    "\n",
    "print('\\n')\n",
    "\n",
    "#row wise\n",
    "a = np.array([[1,2,3,4]])  #need to have two [] for multi-dimensionality\n",
    "b= np.array([[5,6,7,8]]) \n",
    "c=np.concatenate((a,b)) \n",
    "print(c)\n",
    "\n"
   ]
  },
  {
   "cell_type": "markdown",
   "id": "9c95d207",
   "metadata": {},
   "source": [
    "### Multidimensional Array Operations"
   ]
  },
  {
   "cell_type": "code",
   "execution_count": 38,
   "id": "314f22cf",
   "metadata": {},
   "outputs": [
    {
     "name": "stdout",
     "output_type": "stream",
     "text": [
      "[[ 1  2  3  4]\n",
      " [ 5  6  7  8]\n",
      " [ 9 10 11 12]\n",
      " [13 14 15 16]\n",
      " [17 18 19 20]]\n"
     ]
    }
   ],
   "source": [
    "arr=[[1,2,3,4],[5,6,7,8],[9,10,11,12],[13,14,15,16],[17,18,19,20]]\n",
    "narr=np.array(arr)\n",
    "print(narr)"
   ]
  },
  {
   "cell_type": "code",
   "execution_count": 39,
   "id": "a24a7ca2",
   "metadata": {},
   "outputs": [
    {
     "name": "stdout",
     "output_type": "stream",
     "text": [
      "[1 2 3 4]\n"
     ]
    }
   ],
   "source": [
    "#printing 1st row at index 0\n",
    "print(narr[0])"
   ]
  },
  {
   "cell_type": "code",
   "execution_count": 41,
   "id": "bb1ab73d",
   "metadata": {},
   "outputs": [
    {
     "name": "stdout",
     "output_type": "stream",
     "text": [
      "2\n"
     ]
    }
   ],
   "source": [
    "print(narr[0,1])"
   ]
  },
  {
   "cell_type": "code",
   "execution_count": 42,
   "id": "0db64cfe",
   "metadata": {},
   "outputs": [
    {
     "name": "stdout",
     "output_type": "stream",
     "text": [
      "[[ 1  2  3  4]\n",
      " [ 5  6  7  8]\n",
      " [ 9 10 11 12]\n",
      " [22 14 15 16]\n",
      " [17 18 19 20]]\n"
     ]
    }
   ],
   "source": [
    "#replace value at a certain index : 13 -> 22\n",
    "narr[3,0]=22\n",
    "print(narr)"
   ]
  },
  {
   "cell_type": "code",
   "execution_count": 43,
   "id": "6ce934da",
   "metadata": {},
   "outputs": [
    {
     "name": "stdout",
     "output_type": "stream",
     "text": [
      "[17 18 19 20]\n"
     ]
    }
   ],
   "source": [
    "print(narr[-1]) #last row"
   ]
  },
  {
   "cell_type": "code",
   "execution_count": 44,
   "id": "df80fbee",
   "metadata": {},
   "outputs": [
    {
     "name": "stdout",
     "output_type": "stream",
     "text": [
      "[[ 9 10 11 12]\n",
      " [22 14 15 16]\n",
      " [17 18 19 20]]\n"
     ]
    }
   ],
   "source": [
    "#slicing rows and columns\n",
    "print(narr[2:,:]) #all rows from index 2 onwards, all columns"
   ]
  },
  {
   "cell_type": "markdown",
   "id": "f9246435",
   "metadata": {},
   "source": [
    "# Vector Arithematic"
   ]
  },
  {
   "cell_type": "code",
   "execution_count": 55,
   "id": "28d08630",
   "metadata": {},
   "outputs": [],
   "source": [
    "x=np.array([1,2,3])\n",
    "y=np.array([2,3,4])"
   ]
  },
  {
   "cell_type": "markdown",
   "id": "86ef1de4",
   "metadata": {},
   "source": [
    "### Addition"
   ]
  },
  {
   "cell_type": "code",
   "execution_count": 57,
   "id": "a76518a3",
   "metadata": {},
   "outputs": [
    {
     "name": "stdout",
     "output_type": "stream",
     "text": [
      "[3 5 7]\n",
      "\n",
      "\n",
      "[3 4 5]\n"
     ]
    }
   ],
   "source": [
    "print(x+y) #vector\n",
    "print('\\n')\n",
    "print(x+2) #scalar"
   ]
  },
  {
   "cell_type": "markdown",
   "id": "aa84c145",
   "metadata": {},
   "source": [
    "### Subtraction"
   ]
  },
  {
   "cell_type": "code",
   "execution_count": 60,
   "id": "270ed7d9",
   "metadata": {},
   "outputs": [
    {
     "name": "stdout",
     "output_type": "stream",
     "text": [
      "[1 1 1]\n",
      "\n",
      "\n",
      "[1 2 3]\n"
     ]
    }
   ],
   "source": [
    "print(y-x)\n",
    "print('\\n')\n",
    "print(y-1)"
   ]
  },
  {
   "cell_type": "markdown",
   "id": "7a862ea6",
   "metadata": {},
   "source": [
    "### Multiplication"
   ]
  },
  {
   "cell_type": "code",
   "execution_count": 64,
   "id": "5f5757e4",
   "metadata": {},
   "outputs": [
    {
     "name": "stdout",
     "output_type": "stream",
     "text": [
      "[ 2  6 12]\n",
      "20\n"
     ]
    }
   ],
   "source": [
    "#hadmard product\n",
    "print(x*y) #element-wise multiplication\n",
    "\n",
    "#dot product\n",
    "print(np.dot(x,y))"
   ]
  },
  {
   "cell_type": "markdown",
   "id": "dd47c424",
   "metadata": {},
   "source": [
    "### Division"
   ]
  },
  {
   "cell_type": "code",
   "execution_count": 65,
   "id": "dd8af20e",
   "metadata": {},
   "outputs": [
    {
     "name": "stdout",
     "output_type": "stream",
     "text": [
      "[2.         1.5        1.33333333]\n"
     ]
    }
   ],
   "source": [
    "print(y/x)"
   ]
  },
  {
   "cell_type": "markdown",
   "id": "9a94f146",
   "metadata": {},
   "source": [
    "# Matrix Arithematic"
   ]
  },
  {
   "cell_type": "code",
   "execution_count": 8,
   "id": "32a8d84a",
   "metadata": {},
   "outputs": [
    {
     "name": "stdout",
     "output_type": "stream",
     "text": [
      "[[1 2]\n",
      " [3 4]]\n",
      "\n",
      "\n",
      "[[5 3]\n",
      " [8 7]]\n",
      "<class 'numpy.matrix'>\n"
     ]
    }
   ],
   "source": [
    "x=np.matrix([[1,2],[3,4]]) \n",
    "y=np.matrix([[5,3],[8,7]])\n",
    "\n",
    "print(x)\n",
    "print('\\n')\n",
    "print(y)\n",
    "print(type(x))\n",
    "#note that np.array changed to np.matrix\n",
    "#it helps with matrix operations\n",
    "#np matrices are stricly 2-dimensional whereas, np arrays are n-dimensional"
   ]
  },
  {
   "cell_type": "markdown",
   "id": "587887f2",
   "metadata": {},
   "source": [
    "### Addition"
   ]
  },
  {
   "cell_type": "code",
   "execution_count": 9,
   "id": "4497a7ca",
   "metadata": {},
   "outputs": [
    {
     "name": "stdout",
     "output_type": "stream",
     "text": [
      "[[ 6  5]\n",
      " [11 11]]\n"
     ]
    }
   ],
   "source": [
    "print(x+y) #matrix addition"
   ]
  },
  {
   "cell_type": "code",
   "execution_count": 10,
   "id": "2ba6b6bf",
   "metadata": {},
   "outputs": [
    {
     "name": "stdout",
     "output_type": "stream",
     "text": [
      "[[3 4]\n",
      " [5 6]]\n"
     ]
    }
   ],
   "source": [
    "print(x+2) #element-wise"
   ]
  },
  {
   "cell_type": "markdown",
   "id": "c35fc2e0",
   "metadata": {},
   "source": [
    "### Multiplication"
   ]
  },
  {
   "cell_type": "code",
   "execution_count": 11,
   "id": "baad2060",
   "metadata": {},
   "outputs": [
    {
     "name": "stdout",
     "output_type": "stream",
     "text": [
      "[[1 2]\n",
      " [3 4]]\n"
     ]
    }
   ],
   "source": [
    "a=np.matrix([[1,2],[3,4]])\n",
    "print(a)"
   ]
  },
  {
   "cell_type": "code",
   "execution_count": 12,
   "id": "30937fed",
   "metadata": {},
   "outputs": [
    {
     "name": "stdout",
     "output_type": "stream",
     "text": [
      "[[ 7 10]\n",
      " [15 22]]\n"
     ]
    }
   ],
   "source": [
    "#haddmard multiplication\n",
    "print(a*a) #benefit of using np.matrix, it did the matrix multiplication automatically for us"
   ]
  },
  {
   "cell_type": "code",
   "execution_count": 14,
   "id": "6306822c",
   "metadata": {},
   "outputs": [
    {
     "name": "stdout",
     "output_type": "stream",
     "text": [
      "[[ 1  4]\n",
      " [ 9 16]]\n"
     ]
    }
   ],
   "source": [
    "#element-wise multiplication\n",
    "print(np.multiply(a,a))"
   ]
  },
  {
   "cell_type": "markdown",
   "id": "27585118",
   "metadata": {},
   "source": [
    "# Inverse"
   ]
  },
  {
   "cell_type": "code",
   "execution_count": 15,
   "id": "35c35026",
   "metadata": {},
   "outputs": [],
   "source": [
    "from numpy.linalg import inv"
   ]
  },
  {
   "cell_type": "code",
   "execution_count": 16,
   "id": "965ba032",
   "metadata": {},
   "outputs": [
    {
     "name": "stdout",
     "output_type": "stream",
     "text": [
      "[[-2.   1. ]\n",
      " [ 1.5 -0.5]]\n"
     ]
    }
   ],
   "source": [
    "print(inv(a))"
   ]
  },
  {
   "cell_type": "markdown",
   "id": "7ab83e62",
   "metadata": {},
   "source": [
    "# Transpose"
   ]
  },
  {
   "cell_type": "code",
   "execution_count": 19,
   "id": "f269bab2",
   "metadata": {},
   "outputs": [
    {
     "name": "stdout",
     "output_type": "stream",
     "text": [
      "[[1 2]\n",
      " [3 4]]\n",
      "\n",
      "Transpose: \n",
      "\n",
      "[[1 3]\n",
      " [2 4]]\n"
     ]
    }
   ],
   "source": [
    "print(a)\n",
    "print('\\nTranspose: \\n')\n",
    "print(a.T)"
   ]
  },
  {
   "cell_type": "code",
   "execution_count": null,
   "id": "cb67ade2",
   "metadata": {},
   "outputs": [],
   "source": []
  }
 ],
 "metadata": {
  "kernelspec": {
   "display_name": "Python 3 (ipykernel)",
   "language": "python",
   "name": "python3"
  },
  "language_info": {
   "codemirror_mode": {
    "name": "ipython",
    "version": 3
   },
   "file_extension": ".py",
   "mimetype": "text/x-python",
   "name": "python",
   "nbconvert_exporter": "python",
   "pygments_lexer": "ipython3",
   "version": "3.9.12"
  }
 },
 "nbformat": 4,
 "nbformat_minor": 5
}
