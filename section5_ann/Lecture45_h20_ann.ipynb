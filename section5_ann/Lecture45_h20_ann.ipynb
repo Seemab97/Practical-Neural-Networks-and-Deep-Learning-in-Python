{
 "cells": [
  {
   "cell_type": "code",
   "execution_count": null,
   "metadata": {},
   "outputs": [],
   "source": []
  },
  {
   "cell_type": "code",
   "execution_count": null,
   "metadata": {},
   "outputs": [],
   "source": []
  },
  {
   "cell_type": "code",
   "execution_count": 1,
   "metadata": {},
   "outputs": [
    {
     "name": "stdout",
     "output_type": "stream",
     "text": [
      "Checking whether there is an H2O instance running at http://localhost:54323 ..... not found.\n",
      "Attempting to start a local H2O server...\n",
      "  Java Version: openjdk version \"1.8.0_121\"; OpenJDK Runtime Environment (Zulu 8.20.0.5-macosx) (build 1.8.0_121-b15); OpenJDK 64-Bit Server VM (Zulu 8.20.0.5-macosx) (build 25.121-b15, mixed mode)\n",
      "  Starting server from /Users/apple/anaconda3/lib/python3.7/site-packages/h2o/backend/bin/h2o.jar\n",
      "  Ice root: /var/folders/fb/92chy0p518z883prq16qyg2r0000gn/T/tmpav74ppis\n",
      "  JVM stdout: /var/folders/fb/92chy0p518z883prq16qyg2r0000gn/T/tmpav74ppis/h2o_apple_started_from_python.out\n",
      "  JVM stderr: /var/folders/fb/92chy0p518z883prq16qyg2r0000gn/T/tmpav74ppis/h2o_apple_started_from_python.err\n",
      "  Server is running at http://127.0.0.1:54323\n",
      "Connecting to H2O server at http://127.0.0.1:54323 ... successful.\n"
     ]
    },
    {
     "data": {
      "text/html": [
       "<div style=\"overflow:auto\"><table style=\"width:50%\"><tr><td>H2O cluster uptime:</td>\n",
       "<td>02 secs</td></tr>\n",
       "<tr><td>H2O cluster timezone:</td>\n",
       "<td>Europe/London</td></tr>\n",
       "<tr><td>H2O data parsing timezone:</td>\n",
       "<td>UTC</td></tr>\n",
       "<tr><td>H2O cluster version:</td>\n",
       "<td>3.26.0.6</td></tr>\n",
       "<tr><td>H2O cluster version age:</td>\n",
       "<td>3 days </td></tr>\n",
       "<tr><td>H2O cluster name:</td>\n",
       "<td>H2O_from_python_apple_hprxrr</td></tr>\n",
       "<tr><td>H2O cluster total nodes:</td>\n",
       "<td>1</td></tr>\n",
       "<tr><td>H2O cluster free memory:</td>\n",
       "<td>1.778 Gb</td></tr>\n",
       "<tr><td>H2O cluster total cores:</td>\n",
       "<td>4</td></tr>\n",
       "<tr><td>H2O cluster allowed cores:</td>\n",
       "<td>4</td></tr>\n",
       "<tr><td>H2O cluster status:</td>\n",
       "<td>accepting new members, healthy</td></tr>\n",
       "<tr><td>H2O connection url:</td>\n",
       "<td>http://127.0.0.1:54323</td></tr>\n",
       "<tr><td>H2O connection proxy:</td>\n",
       "<td>None</td></tr>\n",
       "<tr><td>H2O internal security:</td>\n",
       "<td>False</td></tr>\n",
       "<tr><td>H2O API Extensions:</td>\n",
       "<td>Amazon S3, XGBoost, Algos, AutoML, Core V3, TargetEncoder, Core V4</td></tr>\n",
       "<tr><td>Python version:</td>\n",
       "<td>3.7.3 final</td></tr></table></div>"
      ],
      "text/plain": [
       "--------------------------  ------------------------------------------------------------------\n",
       "H2O cluster uptime:         02 secs\n",
       "H2O cluster timezone:       Europe/London\n",
       "H2O data parsing timezone:  UTC\n",
       "H2O cluster version:        3.26.0.6\n",
       "H2O cluster version age:    3 days\n",
       "H2O cluster name:           H2O_from_python_apple_hprxrr\n",
       "H2O cluster total nodes:    1\n",
       "H2O cluster free memory:    1.778 Gb\n",
       "H2O cluster total cores:    4\n",
       "H2O cluster allowed cores:  4\n",
       "H2O cluster status:         accepting new members, healthy\n",
       "H2O connection url:         http://127.0.0.1:54323\n",
       "H2O connection proxy:\n",
       "H2O internal security:      False\n",
       "H2O API Extensions:         Amazon S3, XGBoost, Algos, AutoML, Core V3, TargetEncoder, Core V4\n",
       "Python version:             3.7.3 final\n",
       "--------------------------  ------------------------------------------------------------------"
      ]
     },
     "metadata": {},
     "output_type": "display_data"
    }
   ],
   "source": [
    "# Load the H2O library and start up the H2O cluter locally on your machine\n",
    "import h2o\n",
    "h2o.init(ip=\"localhost\", port=54323)"
   ]
  },
  {
   "cell_type": "code",
   "execution_count": null,
   "metadata": {},
   "outputs": [],
   "source": []
  },
  {
   "cell_type": "code",
   "execution_count": 10,
   "metadata": {},
   "outputs": [
    {
     "name": "stdout",
     "output_type": "stream",
     "text": [
      "Parse progress: |█████████████████████████████████████████████████████████| 100%\n"
     ]
    }
   ],
   "source": [
    "df = h2o.import_file(\"creditcard.csv\")"
   ]
  },
  {
   "cell_type": "code",
   "execution_count": 11,
   "metadata": {},
   "outputs": [
    {
     "name": "stdout",
     "output_type": "stream",
     "text": [
      "Rows:30000\n",
      "Cols:25\n",
      "\n",
      "\n"
     ]
    },
    {
     "data": {
      "text/html": [
       "<table>\n",
       "<thead>\n",
       "<tr><th>       </th><th>ID               </th><th>LIMIT_BAL         </th><th>SEX               </th><th>EDUCATION         </th><th>MARRIAGE          </th><th>AGE              </th><th>PAY_0                </th><th>PAY_2               </th><th>PAY_3             </th><th>PAY_4               </th><th>PAY_5              </th><th>PAY_6             </th><th>BILL_AMT1        </th><th>BILL_AMT2        </th><th>BILL_AMT3        </th><th>BILL_AMT4         </th><th>BILL_AMT5        </th><th>BILL_AMT6        </th><th>PAY_AMT1          </th><th>PAY_AMT2         </th><th>PAY_AMT3          </th><th>PAY_AMT4         </th><th>PAY_AMT5         </th><th>PAY_AMT6         </th><th>default payment next month  </th></tr>\n",
       "</thead>\n",
       "<tbody>\n",
       "<tr><td>type   </td><td>int              </td><td>int               </td><td>int               </td><td>int               </td><td>int               </td><td>int              </td><td>int                  </td><td>int                 </td><td>int               </td><td>int                 </td><td>int                </td><td>int               </td><td>int              </td><td>int              </td><td>int              </td><td>int               </td><td>int              </td><td>int              </td><td>int               </td><td>int              </td><td>int               </td><td>int              </td><td>int              </td><td>int              </td><td>int                         </td></tr>\n",
       "<tr><td>mins   </td><td>1.0              </td><td>10000.0           </td><td>1.0               </td><td>0.0               </td><td>0.0               </td><td>21.0             </td><td>-2.0                 </td><td>-2.0                </td><td>-2.0              </td><td>-2.0                </td><td>-2.0               </td><td>-2.0              </td><td>-165580.0        </td><td>-69777.0         </td><td>-157264.0        </td><td>-170000.0         </td><td>-81334.0         </td><td>-339603.0        </td><td>0.0               </td><td>0.0              </td><td>0.0               </td><td>0.0              </td><td>0.0              </td><td>0.0              </td><td>0.0                         </td></tr>\n",
       "<tr><td>mean   </td><td>15000.5          </td><td>167484.32266666662</td><td>1.6037333333333337</td><td>1.8531333333333335</td><td>1.5518666666666667</td><td>35.48550000000001</td><td>-0.016699999999999944</td><td>-0.13376666666666667</td><td>-0.1662           </td><td>-0.22066666666666668</td><td>-0.2662000000000001</td><td>-0.2911           </td><td>51223.3309       </td><td>49179.0751666667 </td><td>47013.15479999998</td><td>43262.94896666665 </td><td>40311.40096666665</td><td>38871.7604       </td><td>5663.580499999998 </td><td>5921.1635        </td><td>5225.681500000002 </td><td>4826.076866666669</td><td>4799.387633333331</td><td>5215.502566666669</td><td>0.2212                      </td></tr>\n",
       "<tr><td>maxs   </td><td>30000.0          </td><td>1000000.0         </td><td>2.0               </td><td>6.0               </td><td>3.0               </td><td>79.0             </td><td>8.0                  </td><td>8.0                 </td><td>8.0               </td><td>8.0                 </td><td>8.0                </td><td>8.0               </td><td>964511.0         </td><td>983931.0         </td><td>1664089.0        </td><td>891586.0          </td><td>927171.0         </td><td>961664.0         </td><td>873552.0          </td><td>1684259.0        </td><td>896040.0          </td><td>621000.0         </td><td>426529.0         </td><td>528666.0         </td><td>1.0                         </td></tr>\n",
       "<tr><td>sigma  </td><td>8660.398374208891</td><td>129747.6615672024 </td><td>0.4891291960902604</td><td>0.7903486597207295</td><td>0.5219696006132486</td><td>9.217904068090185</td><td>1.1238015279973346   </td><td>1.1971859730345535  </td><td>1.1968675684465737</td><td>1.169138622402337   </td><td>1.133187406002748  </td><td>1.1499876256079027</td><td>73635.86057552957</td><td>71173.76878252835</td><td>69349.38742703685</td><td>64332.856133916306</td><td>60797.15577026487</td><td>59554.10753674573</td><td>16563.280354025766</td><td>23040.87040205724</td><td>17606.961469803096</td><td>15666.15974403201</td><td>15278.30567914479</td><td>17777.46577543529</td><td>0.41506180569093337         </td></tr>\n",
       "<tr><td>zeros  </td><td>0                </td><td>0                 </td><td>0                 </td><td>14                </td><td>54                </td><td>0                </td><td>14737                </td><td>15730               </td><td>15764             </td><td>16455               </td><td>16947              </td><td>16286             </td><td>2008             </td><td>2506             </td><td>2870             </td><td>3195              </td><td>3506             </td><td>4020             </td><td>5249              </td><td>5396             </td><td>5968              </td><td>6408             </td><td>6703             </td><td>7173             </td><td>23364                       </td></tr>\n",
       "<tr><td>missing</td><td>0                </td><td>0                 </td><td>0                 </td><td>0                 </td><td>0                 </td><td>0                </td><td>0                    </td><td>0                   </td><td>0                 </td><td>0                   </td><td>0                  </td><td>0                 </td><td>0                </td><td>0                </td><td>0                </td><td>0                 </td><td>0                </td><td>0                </td><td>0                 </td><td>0                </td><td>0                 </td><td>0                </td><td>0                </td><td>0                </td><td>0                           </td></tr>\n",
       "<tr><td>0      </td><td>1.0              </td><td>20000.0           </td><td>2.0               </td><td>2.0               </td><td>1.0               </td><td>24.0             </td><td>2.0                  </td><td>2.0                 </td><td>-1.0              </td><td>-1.0                </td><td>-2.0               </td><td>-2.0              </td><td>3913.0           </td><td>3102.0           </td><td>689.0            </td><td>0.0               </td><td>0.0              </td><td>0.0              </td><td>0.0               </td><td>689.0            </td><td>0.0               </td><td>0.0              </td><td>0.0              </td><td>0.0              </td><td>1.0                         </td></tr>\n",
       "<tr><td>1      </td><td>2.0              </td><td>120000.0          </td><td>2.0               </td><td>2.0               </td><td>2.0               </td><td>26.0             </td><td>-1.0                 </td><td>2.0                 </td><td>0.0               </td><td>0.0                 </td><td>0.0                </td><td>2.0               </td><td>2682.0           </td><td>1725.0           </td><td>2682.0           </td><td>3272.0            </td><td>3455.0           </td><td>3261.0           </td><td>0.0               </td><td>1000.0           </td><td>1000.0            </td><td>1000.0           </td><td>0.0              </td><td>2000.0           </td><td>1.0                         </td></tr>\n",
       "<tr><td>2      </td><td>3.0              </td><td>90000.0           </td><td>2.0               </td><td>2.0               </td><td>2.0               </td><td>34.0             </td><td>0.0                  </td><td>0.0                 </td><td>0.0               </td><td>0.0                 </td><td>0.0                </td><td>0.0               </td><td>29239.0          </td><td>14027.0          </td><td>13559.0          </td><td>14331.0           </td><td>14948.0          </td><td>15549.0          </td><td>1518.0            </td><td>1500.0           </td><td>1000.0            </td><td>1000.0           </td><td>1000.0           </td><td>5000.0           </td><td>0.0                         </td></tr>\n",
       "<tr><td>3      </td><td>4.0              </td><td>50000.0           </td><td>2.0               </td><td>2.0               </td><td>1.0               </td><td>37.0             </td><td>0.0                  </td><td>0.0                 </td><td>0.0               </td><td>0.0                 </td><td>0.0                </td><td>0.0               </td><td>46990.0          </td><td>48233.0          </td><td>49291.0          </td><td>28314.0           </td><td>28959.0          </td><td>29547.0          </td><td>2000.0            </td><td>2019.0           </td><td>1200.0            </td><td>1100.0           </td><td>1069.0           </td><td>1000.0           </td><td>0.0                         </td></tr>\n",
       "<tr><td>4      </td><td>5.0              </td><td>50000.0           </td><td>1.0               </td><td>2.0               </td><td>1.0               </td><td>57.0             </td><td>-1.0                 </td><td>0.0                 </td><td>-1.0              </td><td>0.0                 </td><td>0.0                </td><td>0.0               </td><td>8617.0           </td><td>5670.0           </td><td>35835.0          </td><td>20940.0           </td><td>19146.0          </td><td>19131.0          </td><td>2000.0            </td><td>36681.0          </td><td>10000.0           </td><td>9000.0           </td><td>689.0            </td><td>679.0            </td><td>0.0                         </td></tr>\n",
       "<tr><td>5      </td><td>6.0              </td><td>50000.0           </td><td>1.0               </td><td>1.0               </td><td>2.0               </td><td>37.0             </td><td>0.0                  </td><td>0.0                 </td><td>0.0               </td><td>0.0                 </td><td>0.0                </td><td>0.0               </td><td>64400.0          </td><td>57069.0          </td><td>57608.0          </td><td>19394.0           </td><td>19619.0          </td><td>20024.0          </td><td>2500.0            </td><td>1815.0           </td><td>657.0             </td><td>1000.0           </td><td>1000.0           </td><td>800.0            </td><td>0.0                         </td></tr>\n",
       "<tr><td>6      </td><td>7.0              </td><td>500000.0          </td><td>1.0               </td><td>1.0               </td><td>2.0               </td><td>29.0             </td><td>0.0                  </td><td>0.0                 </td><td>0.0               </td><td>0.0                 </td><td>0.0                </td><td>0.0               </td><td>367965.0         </td><td>412023.0         </td><td>445007.0         </td><td>542653.0          </td><td>483003.0         </td><td>473944.0         </td><td>55000.0           </td><td>40000.0          </td><td>38000.0           </td><td>20239.0          </td><td>13750.0          </td><td>13770.0          </td><td>0.0                         </td></tr>\n",
       "<tr><td>7      </td><td>8.0              </td><td>100000.0          </td><td>2.0               </td><td>2.0               </td><td>2.0               </td><td>23.0             </td><td>0.0                  </td><td>-1.0                </td><td>-1.0              </td><td>0.0                 </td><td>0.0                </td><td>-1.0              </td><td>11876.0          </td><td>380.0            </td><td>601.0            </td><td>221.0             </td><td>-159.0           </td><td>567.0            </td><td>380.0             </td><td>601.0            </td><td>0.0               </td><td>581.0            </td><td>1687.0           </td><td>1542.0           </td><td>0.0                         </td></tr>\n",
       "<tr><td>8      </td><td>9.0              </td><td>140000.0          </td><td>2.0               </td><td>3.0               </td><td>1.0               </td><td>28.0             </td><td>0.0                  </td><td>0.0                 </td><td>2.0               </td><td>0.0                 </td><td>0.0                </td><td>0.0               </td><td>11285.0          </td><td>14096.0          </td><td>12108.0          </td><td>12211.0           </td><td>11793.0          </td><td>3719.0           </td><td>3329.0            </td><td>0.0              </td><td>432.0             </td><td>1000.0           </td><td>1000.0           </td><td>1000.0           </td><td>0.0                         </td></tr>\n",
       "<tr><td>9      </td><td>10.0             </td><td>20000.0           </td><td>1.0               </td><td>3.0               </td><td>2.0               </td><td>35.0             </td><td>-2.0                 </td><td>-2.0                </td><td>-2.0              </td><td>-2.0                </td><td>-1.0               </td><td>-1.0              </td><td>0.0              </td><td>0.0              </td><td>0.0              </td><td>0.0               </td><td>13007.0          </td><td>13912.0          </td><td>0.0               </td><td>0.0              </td><td>0.0               </td><td>13007.0          </td><td>1122.0           </td><td>0.0              </td><td>0.0                         </td></tr>\n",
       "</tbody>\n",
       "</table>"
      ]
     },
     "metadata": {},
     "output_type": "display_data"
    }
   ],
   "source": [
    "df.describe()"
   ]
  },
  {
   "cell_type": "code",
   "execution_count": null,
   "metadata": {},
   "outputs": [],
   "source": []
  },
  {
   "cell_type": "code",
   "execution_count": 12,
   "metadata": {},
   "outputs": [
    {
     "data": {
      "text/plain": [
       "['LIMIT_BAL',\n",
       " 'SEX',\n",
       " 'EDUCATION',\n",
       " 'MARRIAGE',\n",
       " 'AGE',\n",
       " 'PAY_0',\n",
       " 'PAY_2',\n",
       " 'PAY_3',\n",
       " 'PAY_4',\n",
       " 'PAY_5',\n",
       " 'PAY_6',\n",
       " 'BILL_AMT1',\n",
       " 'BILL_AMT2',\n",
       " 'BILL_AMT3',\n",
       " 'BILL_AMT4',\n",
       " 'BILL_AMT5',\n",
       " 'BILL_AMT6',\n",
       " 'PAY_AMT1',\n",
       " 'PAY_AMT2',\n",
       " 'PAY_AMT3',\n",
       " 'PAY_AMT4',\n",
       " 'PAY_AMT5',\n",
       " 'PAY_AMT6',\n",
       " 'default payment next month']"
      ]
     },
     "execution_count": 12,
     "metadata": {},
     "output_type": "execute_result"
    }
   ],
   "source": [
    "df = df.drop(\"ID\")\n",
    "df.columns"
   ]
  },
  {
   "cell_type": "code",
   "execution_count": 14,
   "metadata": {},
   "outputs": [],
   "source": [
    "y = \"default payment next month\" ##response variable\n",
    "\n",
    "\n",
    "x = list(df.columns).remove(y) ##predictors"
   ]
  },
  {
   "cell_type": "code",
   "execution_count": null,
   "metadata": {},
   "outputs": [],
   "source": [
    "# Split the H2O data frame into training, validation and test sets\n",
    "# so we can evaluate out-of-bag performance"
   ]
  },
  {
   "cell_type": "code",
   "execution_count": 16,
   "metadata": {},
   "outputs": [],
   "source": [
    "splits = df.split_frame(ratios=[0.7, 0.2], seed=1)\n",
    "train = splits[0]\n",
    "valid = splits[1]\n",
    "test = splits[2]"
   ]
  },
  {
   "cell_type": "code",
   "execution_count": 17,
   "metadata": {},
   "outputs": [],
   "source": [
    "from h2o.estimators.deeplearning import H2ODeepLearningEstimator"
   ]
  },
  {
   "cell_type": "code",
   "execution_count": 18,
   "metadata": {},
   "outputs": [],
   "source": [
    "model = H2ODeepLearningEstimator(activation = \"Tanh\", hidden = [10, 10, 10], epochs = 10000) "
   ]
  },
  {
   "cell_type": "code",
   "execution_count": 19,
   "metadata": {},
   "outputs": [
    {
     "name": "stdout",
     "output_type": "stream",
     "text": [
      "deeplearning Model Build progress: |██████████████████████████████████████| 100%\n"
     ]
    }
   ],
   "source": [
    "model.train(x=x, y=y, training_frame=train) ## when we have training and testing data"
   ]
  },
  {
   "cell_type": "code",
   "execution_count": 23,
   "metadata": {},
   "outputs": [
    {
     "name": "stdout",
     "output_type": "stream",
     "text": [
      "deeplearning Model Build progress: |██████████████████████████████████████| 100%\n"
     ]
    }
   ],
   "source": [
    "model.train(x=x, y=y, training_frame=train,validation_frame=valid)##specify validation"
   ]
  },
  {
   "cell_type": "code",
   "execution_count": 24,
   "metadata": {},
   "outputs": [],
   "source": [
    "mod_perf1 = model.model_performance(test)"
   ]
  },
  {
   "cell_type": "code",
   "execution_count": 26,
   "metadata": {},
   "outputs": [
    {
     "name": "stdout",
     "output_type": "stream",
     "text": [
      "\n",
      "ModelMetricsRegression: deeplearning\n",
      "** Reported on test data. **\n",
      "\n",
      "MSE: 0.13607801600963235\n",
      "RMSE: 0.368887538430932\n",
      "MAE: 0.27507561466142066\n",
      "RMSLE: 0.26195640280994464\n",
      "Mean Residual Deviance: 0.13607801600963235\n",
      "\n"
     ]
    }
   ],
   "source": [
    "print(mod_perf1)"
   ]
  },
  {
   "cell_type": "code",
   "execution_count": 27,
   "metadata": {},
   "outputs": [
    {
     "name": "stdout",
     "output_type": "stream",
     "text": [
      "deeplearning prediction progress: |███████████████████████████████████████| 100%\n"
     ]
    }
   ],
   "source": [
    "y_hat = model.predict(test_data=test)"
   ]
  },
  {
   "cell_type": "code",
   "execution_count": null,
   "metadata": {},
   "outputs": [],
   "source": []
  },
  {
   "cell_type": "code",
   "execution_count": null,
   "metadata": {},
   "outputs": [],
   "source": []
  },
  {
   "cell_type": "code",
   "execution_count": null,
   "metadata": {},
   "outputs": [],
   "source": []
  },
  {
   "cell_type": "code",
   "execution_count": null,
   "metadata": {},
   "outputs": [],
   "source": []
  }
 ],
 "metadata": {
  "kernelspec": {
   "display_name": "Python 3",
   "language": "python",
   "name": "python3"
  },
  "language_info": {
   "codemirror_mode": {
    "name": "ipython",
    "version": 3
   },
   "file_extension": ".py",
   "mimetype": "text/x-python",
   "name": "python",
   "nbconvert_exporter": "python",
   "pygments_lexer": "ipython3",
   "version": "3.7.3"
  }
 },
 "nbformat": 4,
 "nbformat_minor": 2
}
