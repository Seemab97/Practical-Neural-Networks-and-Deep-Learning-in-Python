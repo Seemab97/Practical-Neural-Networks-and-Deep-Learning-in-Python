{
 "cells": [
  {
   "cell_type": "markdown",
   "id": "b3e87083",
   "metadata": {},
   "source": [
    "# h2o\n",
    "To make it work, I had to create a virtual environment with python 3.6 because h2o only work with some versions of python. \n",
    "Then I was running into init() error and as per google I installed JDK-8 as h2o uses it.\n",
    "After that, I was still unable to run it and then I installed h2o inside my virtual environment.\n",
    "\n",
    "I hope if you follow these steps, it will work for you."
   ]
  },
  {
   "cell_type": "code",
   "execution_count": 1,
   "id": "8e33fe2c",
   "metadata": {},
   "outputs": [],
   "source": [
    "import h2o"
   ]
  },
  {
   "cell_type": "code",
   "execution_count": 2,
   "id": "48a0221a",
   "metadata": {},
   "outputs": [
    {
     "name": "stdout",
     "output_type": "stream",
     "text": [
      "Checking whether there is an H2O instance running at http://localhost:54321..... not found.\n",
      "Attempting to start a local H2O server...\n",
      "; Java HotSpot(TM) 64-Bit Server VM (build 25.341-b10, mixed mode)\n",
      "  Starting server from C:\\Users\\Seemab\\anaconda3\\envs\\py36\\h2o_jar\\h2o.jar\n",
      "  Ice root: C:\\Users\\Seemab\\AppData\\Local\\Temp\\tmp3g_k0p41\n",
      "  JVM stdout: C:\\Users\\Seemab\\AppData\\Local\\Temp\\tmp3g_k0p41\\h2o_Seemab_started_from_python.out\n",
      "  JVM stderr: C:\\Users\\Seemab\\AppData\\Local\\Temp\\tmp3g_k0p41\\h2o_Seemab_started_from_python.err\n",
      "  Server is running at http://127.0.0.1:54321\n",
      "Connecting to H2O server at http://127.0.0.1:54321... successful.\n",
      "Warning: Your H2O cluster version is too old (4 years, 5 months and 6 days)! Please download and install the latest version from http://h2o.ai/download/\n"
     ]
    },
    {
     "data": {
      "text/html": [
       "<div style=\"overflow:auto\"><table style=\"width:50%\"><tr><td>H2O cluster uptime:</td>\n",
       "<td>12 secs</td></tr>\n",
       "<tr><td>H2O cluster timezone:</td>\n",
       "<td>Europe/Berlin</td></tr>\n",
       "<tr><td>H2O data parsing timezone:</td>\n",
       "<td>UTC</td></tr>\n",
       "<tr><td>H2O cluster version:</td>\n",
       "<td>3.18.0.2</td></tr>\n",
       "<tr><td>H2O cluster version age:</td>\n",
       "<td>4 years, 5 months and 6 days !!!</td></tr>\n",
       "<tr><td>H2O cluster name:</td>\n",
       "<td>H2O_from_python_Seemab_cssguy</td></tr>\n",
       "<tr><td>H2O cluster total nodes:</td>\n",
       "<td>1</td></tr>\n",
       "<tr><td>H2O cluster free memory:</td>\n",
       "<td>1.759 Gb</td></tr>\n",
       "<tr><td>H2O cluster total cores:</td>\n",
       "<td>4</td></tr>\n",
       "<tr><td>H2O cluster allowed cores:</td>\n",
       "<td>4</td></tr>\n",
       "<tr><td>H2O cluster status:</td>\n",
       "<td>locked, healthy</td></tr>\n",
       "<tr><td>H2O connection url:</td>\n",
       "<td>http://127.0.0.1:54321</td></tr>\n",
       "<tr><td>H2O connection proxy:</td>\n",
       "<td>None</td></tr>\n",
       "<tr><td>H2O internal security:</td>\n",
       "<td>False</td></tr>\n",
       "<tr><td>H2O API Extensions:</td>\n",
       "<td>Algos, AutoML, Core V3, Core V4</td></tr>\n",
       "<tr><td>Python version:</td>\n",
       "<td>3.6.10 final</td></tr></table></div>"
      ],
      "text/plain": [
       "--------------------------  --------------------------------\n",
       "H2O cluster uptime:         12 secs\n",
       "H2O cluster timezone:       Europe/Berlin\n",
       "H2O data parsing timezone:  UTC\n",
       "H2O cluster version:        3.18.0.2\n",
       "H2O cluster version age:    4 years, 5 months and 6 days !!!\n",
       "H2O cluster name:           H2O_from_python_Seemab_cssguy\n",
       "H2O cluster total nodes:    1\n",
       "H2O cluster free memory:    1.759 Gb\n",
       "H2O cluster total cores:    4\n",
       "H2O cluster allowed cores:  4\n",
       "H2O cluster status:         locked, healthy\n",
       "H2O connection url:         http://127.0.0.1:54321\n",
       "H2O connection proxy:\n",
       "H2O internal security:      False\n",
       "H2O API Extensions:         Algos, AutoML, Core V3, Core V4\n",
       "Python version:             3.6.10 final\n",
       "--------------------------  --------------------------------"
      ]
     },
     "metadata": {},
     "output_type": "display_data"
    }
   ],
   "source": [
    "h2o.init()"
   ]
  },
  {
   "cell_type": "code",
   "execution_count": 3,
   "id": "c85925aa",
   "metadata": {},
   "outputs": [
    {
     "name": "stderr",
     "output_type": "stream",
     "text": [
      "C:\\Users\\Seemab\\anaconda3\\envs\\py36\\lib\\site-packages\\h2o\\h2o.py:562: UserWarning: [Lwater.parser.ParseWriter$ParseErr;@1cc14f5b\n",
      "  warnings.warn(w)\n"
     ]
    },
    {
     "name": "stdout",
     "output_type": "stream",
     "text": [
      "Parse progress: |█████████████████████████████████████████████████████████| 100%\n"
     ]
    },
    {
     "name": "stderr",
     "output_type": "stream",
     "text": [
      "C:\\Users\\Seemab\\anaconda3\\envs\\py36\\lib\\site-packages\\h2o\\job.py:69: UserWarning: ParseError at file https://github.com/h2oai/h2o-3/blob/master/h2o-py/h2o/h2o_data/iris.csv at line 105 ( destination line 105 )  at byte offset 45565; error = 'Unmatched quote char \"'\n",
      "  warnings.warn(w)\n",
      "C:\\Users\\Seemab\\anaconda3\\envs\\py36\\lib\\site-packages\\h2o\\job.py:69: UserWarning: ParseError at file https://github.com/h2oai/h2o-3/blob/master/h2o-py/h2o/h2o_data/iris.csv at line 524 ( destination line 524 )  at byte offset 86538; error = 'Unmatched quote char \"'\n",
      "  warnings.warn(w)\n",
      "C:\\Users\\Seemab\\anaconda3\\envs\\py36\\lib\\site-packages\\h2o\\job.py:69: UserWarning: ParseError at file https://github.com/h2oai/h2o-3/blob/master/h2o-py/h2o/h2o_data/iris.csv at line 692 ( destination line 692 )  at byte offset 104923; error = 'Unmatched quote char \"'\n",
      "  warnings.warn(w)\n",
      "C:\\Users\\Seemab\\anaconda3\\envs\\py36\\lib\\site-packages\\h2o\\job.py:69: UserWarning: ParseError at file https://github.com/h2oai/h2o-3/blob/master/h2o-py/h2o/h2o_data/iris.csv at line 755 ( destination line 755 )  at byte offset 108454; error = 'Unmatched quote char \"'\n",
      "  warnings.warn(w)\n",
      "C:\\Users\\Seemab\\anaconda3\\envs\\py36\\lib\\site-packages\\h2o\\job.py:69: UserWarning: ParseError at file https://github.com/h2oai/h2o-3/blob/master/h2o-py/h2o/h2o_data/iris.csv at line 797 ( destination line 797 )  at byte offset 111284; error = 'Unmatched quote char \"'\n",
      "  warnings.warn(w)\n"
     ]
    }
   ],
   "source": [
    "iris = h2o.import_file(path=\"https://github.com/h2oai/h2o-3/blob/master/h2o-py/h2o/h2o_data/iris.csv\")"
   ]
  },
  {
   "cell_type": "code",
   "execution_count": 5,
   "id": "2d2cb3f7",
   "metadata": {},
   "outputs": [
    {
     "name": "stdout",
     "output_type": "stream",
     "text": [
      "Rows:2337\n",
      "Cols:3\n",
      "\n",
      "\n"
     ]
    },
    {
     "data": {
      "text/html": [
       "<table>\n",
       "<thead>\n",
       "<tr><th>       </th><th>C1       </th><th>C2                </th><th>C3                                                </th></tr>\n",
       "</thead>\n",
       "<tbody>\n",
       "<tr><td>type   </td><td>enum     </td><td>enum              </td><td>enum                                              </td></tr>\n",
       "<tr><td>mins   </td><td>         </td><td>                  </td><td>                                                  </td></tr>\n",
       "<tr><td>mean   </td><td>         </td><td>                  </td><td>                                                  </td></tr>\n",
       "<tr><td>maxs   </td><td>         </td><td>                  </td><td>                                                  </td></tr>\n",
       "<tr><td>sigma  </td><td>         </td><td>                  </td><td>                                                  </td></tr>\n",
       "<tr><td>zeros  </td><td>         </td><td>                  </td><td>                                                  </td></tr>\n",
       "<tr><td>missing</td><td>72       </td><td>1377              </td><td>1494                                              </td></tr>\n",
       "<tr><td>0      </td><td>&lt;!DOCTYPE</td><td>html&gt;             </td><td>                                                  </td></tr>\n",
       "<tr><td>1      </td><td>&lt;html    </td><td>lang=&quot;en&quot;         </td><td>data-color-mode=&quot;auto&quot;                            </td></tr>\n",
       "<tr><td>2      </td><td>&lt;head&gt;   </td><td>                  </td><td>                                                  </td></tr>\n",
       "<tr><td>3      </td><td>&lt;meta    </td><td>charset=&quot;utf-8&quot;&gt;  </td><td>                                                  </td></tr>\n",
       "<tr><td>4      </td><td>&lt;link    </td><td>rel=&quot;dns-prefetch&quot;</td><td>href=&quot;https://github.githubassets.com&quot;&gt;           </td></tr>\n",
       "<tr><td>5      </td><td>&lt;link    </td><td>rel=&quot;dns-prefetch&quot;</td><td>href=&quot;https://avatars.githubusercontent.com&quot;&gt;     </td></tr>\n",
       "<tr><td>6      </td><td>&lt;link    </td><td>rel=&quot;dns-prefetch&quot;</td><td>href=&quot;https://github-cloud.s3.amazonaws.com&quot;&gt;     </td></tr>\n",
       "<tr><td>7      </td><td>&lt;link    </td><td>rel=&quot;dns-prefetch&quot;</td><td>href=&quot;https://user-images.githubusercontent.com/&quot;&gt;</td></tr>\n",
       "<tr><td>8      </td><td>&lt;link    </td><td>rel=&quot;preconnect&quot;  </td><td>href=&quot;https://github.githubassets.com&quot;            </td></tr>\n",
       "<tr><td>9      </td><td>&lt;link    </td><td>rel=&quot;preconnect&quot;  </td><td>href=&quot;https://avatars.githubusercontent.com&quot;&gt;     </td></tr>\n",
       "</tbody>\n",
       "</table>"
      ]
     },
     "metadata": {},
     "output_type": "display_data"
    }
   ],
   "source": [
    "iris.describe()"
   ]
  },
  {
   "cell_type": "code",
   "execution_count": 7,
   "id": "98f67d6b",
   "metadata": {},
   "outputs": [
    {
     "name": "stdout",
     "output_type": "stream",
     "text": [
      "Parse progress: |█████████████████████████████████████████████████████████| 100%\n"
     ]
    },
    {
     "data": {
      "text/html": [
       "<table>\n",
       "<thead>\n",
       "<tr><th style=\"text-align: right;\">  C1</th><th style=\"text-align: right;\">  C2</th><th style=\"text-align: right;\">  C3</th><th style=\"text-align: right;\">  C4</th><th>C5         </th></tr>\n",
       "</thead>\n",
       "<tbody>\n",
       "<tr><td style=\"text-align: right;\"> 5.1</td><td style=\"text-align: right;\"> 3.5</td><td style=\"text-align: right;\"> 1.4</td><td style=\"text-align: right;\"> 0.2</td><td>Iris-setosa</td></tr>\n",
       "<tr><td style=\"text-align: right;\"> 4.9</td><td style=\"text-align: right;\"> 3  </td><td style=\"text-align: right;\"> 1.4</td><td style=\"text-align: right;\"> 0.2</td><td>Iris-setosa</td></tr>\n",
       "<tr><td style=\"text-align: right;\"> 4.7</td><td style=\"text-align: right;\"> 3.2</td><td style=\"text-align: right;\"> 1.3</td><td style=\"text-align: right;\"> 0.2</td><td>Iris-setosa</td></tr>\n",
       "<tr><td style=\"text-align: right;\"> 4.6</td><td style=\"text-align: right;\"> 3.1</td><td style=\"text-align: right;\"> 1.5</td><td style=\"text-align: right;\"> 0.2</td><td>Iris-setosa</td></tr>\n",
       "<tr><td style=\"text-align: right;\"> 5  </td><td style=\"text-align: right;\"> 3.6</td><td style=\"text-align: right;\"> 1.4</td><td style=\"text-align: right;\"> 0.2</td><td>Iris-setosa</td></tr>\n",
       "</tbody>\n",
       "</table>"
      ]
     },
     "metadata": {},
     "output_type": "display_data"
    },
    {
     "data": {
      "text/plain": []
     },
     "execution_count": 7,
     "metadata": {},
     "output_type": "execute_result"
    }
   ],
   "source": [
    "trainFrame = h2o.import_file(path = \"C:\\\\Users\\\\Seemab\\\\Desktop\\\\Udemy\\\\Practical Neural Networks and Deep Learning in Python\\\\Data\\\\section5_ann\\\\iris1.csv\")\n",
    "trainFrame.head(5)"
   ]
  },
  {
   "cell_type": "code",
   "execution_count": 8,
   "id": "e7fbcdff",
   "metadata": {},
   "outputs": [
    {
     "data": {
      "text/plain": [
       "(150, 5)"
      ]
     },
     "execution_count": 8,
     "metadata": {},
     "output_type": "execute_result"
    }
   ],
   "source": [
    "trainFrame.shape"
   ]
  },
  {
   "cell_type": "code",
   "execution_count": null,
   "id": "9b059a98",
   "metadata": {},
   "outputs": [],
   "source": []
  }
 ],
 "metadata": {
  "kernelspec": {
   "display_name": "Python 3 (ipykernel)",
   "language": "python",
   "name": "python3"
  },
  "language_info": {
   "codemirror_mode": {
    "name": "ipython",
    "version": 3
   },
   "file_extension": ".py",
   "mimetype": "text/x-python",
   "name": "python",
   "nbconvert_exporter": "python",
   "pygments_lexer": "ipython3",
   "version": "3.9.12"
  }
 },
 "nbformat": 4,
 "nbformat_minor": 5
}
