{
 "cells": [
  {
   "cell_type": "code",
   "execution_count": 1,
   "id": "9c85ee11",
   "metadata": {},
   "outputs": [
    {
     "name": "stdout",
     "output_type": "stream",
     "text": [
      "Hello!\n"
     ]
    }
   ],
   "source": [
    "print(\"Hello!\") #Press shift+enter to run each cell"
   ]
  },
  {
   "cell_type": "code",
   "execution_count": 2,
   "id": "3f973fda",
   "metadata": {},
   "outputs": [
    {
     "data": {
      "text/plain": [
       "4096"
      ]
     },
     "execution_count": 2,
     "metadata": {},
     "output_type": "execute_result"
    }
   ],
   "source": [
    "64*64 #Esc+b to add a cell below ; Esc+a to add above"
   ]
  },
  {
   "cell_type": "code",
   "execution_count": 3,
   "id": "76113052",
   "metadata": {},
   "outputs": [
    {
     "data": {
      "text/plain": [
       "64.0"
      ]
     },
     "execution_count": 3,
     "metadata": {},
     "output_type": "execute_result"
    }
   ],
   "source": [
    "_/64 #underscore refers to previous cell"
   ]
  },
  {
   "cell_type": "code",
   "execution_count": 7,
   "id": "045dc79b",
   "metadata": {},
   "outputs": [],
   "source": [
    "x=3\n",
    "y=4\n",
    "\n",
    "z=x+y"
   ]
  },
  {
   "cell_type": "markdown",
   "id": "79fdd4bc",
   "metadata": {},
   "source": [
    "print(z) #Double click the cell below to edit it"
   ]
  },
  {
   "cell_type": "markdown",
   "id": "55d9542c",
   "metadata": {},
   "source": [
    "# Heading 1\n",
    "## Heading 2\n",
    "### Heading 3\n",
    "\n",
    "* List 1\n",
    "* List 2\n",
    "\n",
    "1. Cat\n",
    "2. Dog\n",
    "\n",
    "**Bold**\n",
    "\n",
    "*Italics*\n",
    "\n",
    "$$c = \\sqrt(a^2 +b^2)$$"
   ]
  },
  {
   "cell_type": "code",
   "execution_count": null,
   "id": "ca20afc0",
   "metadata": {},
   "outputs": [],
   "source": []
  }
 ],
 "metadata": {
  "kernelspec": {
   "display_name": "Python 3 (ipykernel)",
   "language": "python",
   "name": "python3"
  },
  "language_info": {
   "codemirror_mode": {
    "name": "ipython",
    "version": 3
   },
   "file_extension": ".py",
   "mimetype": "text/x-python",
   "name": "python",
   "nbconvert_exporter": "python",
   "pygments_lexer": "ipython3",
   "version": "3.9.12"
  }
 },
 "nbformat": 4,
 "nbformat_minor": 5
}
